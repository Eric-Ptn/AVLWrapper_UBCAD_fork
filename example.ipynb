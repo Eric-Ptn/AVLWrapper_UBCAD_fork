{
 "cells": [
  {
   "cell_type": "code",
   "execution_count": 1,
   "metadata": {
    "collapsed": false,
    "jupyter": {
     "outputs_hidden": false
    },
    "pycharm": {
     "is_executing": false,
     "name": "#%%\n"
    }
   },
   "outputs": [],
   "source": [
    "%matplotlib inline\n",
    "\n",
    "import json\n",
    "from math import radians, sqrt, tan\n",
    "import avlwrapper as avl"
   ]
  },
  {
   "cell_type": "markdown",
   "metadata": {},
   "source": [
    "# AVL\n",
    "For a full description of AVL, please read the [documentation](https://web.mit.edu/drela/Public/web/avl/avl_doc.txt).\n",
    "\n",
    "# Creating the geometry\n",
    "We're going to make an aircraft with a wing and horizontal & vertical tail\n",
    "The wing will have a span of 12, with an aspect ratio of 8.\n",
    "The horizontal tail an area of 6 with a span of 5 and\n",
    "the vertical tail an area of 4 with an aspect ratio of 2.\n",
    "\n",
    "## Number of panels\n",
    "The number of chordwise and spanwise panels is an important parameter.\n",
    "For now, we're going to put 20 spanwise panels and 12 panels in chordwise direction.\n",
    "More panels does not necessarily lead to better results."
   ]
  },
  {
   "cell_type": "markdown",
   "metadata": {
    "pycharm": {
     "name": "#%% md\n"
    }
   },
   "source": [
    "## The wing\n",
    "The wing consists of two sections, the root and tip.\n",
    "First we create the wing sections, which are used in the wing.\n",
    "\n",
    "Since $A=\\frac{b^2}{S}$ and \n",
    "$S=b\\cdot c_r\\cdot\\frac{1}{2}(1+\\lambda)$,\n",
    "$c_r=\\frac{2b}{A(1+\\lambda)}$"
   ]
  },
  {
   "cell_type": "code",
   "execution_count": 2,
   "metadata": {
    "collapsed": false,
    "jupyter": {
     "outputs_hidden": false
    },
    "pycharm": {
     "is_executing": false,
     "name": "#%%\n"
    }
   },
   "outputs": [],
   "source": [
    "wing_span = 12\n",
    "wing_aspect_ratio = 8\n",
    "wing_taper = 0.3\n",
    "wing_le_sweep = radians(20)\n",
    "wing_dihedral = radians(4)\n",
    "\n",
    "wing_root_chord = 2 * wing_span / (wing_aspect_ratio * (1+wing_taper))\n",
    "wing_tip_chord = wing_root_chord * wing_taper\n",
    "\n",
    "wing_root_le_pnt = avl.Point(0, 0, 0)\n",
    "wing_tip_le_pnt = avl.Point(x=0.5 * wing_span * tan(wing_le_sweep),\n",
    "                            y=0.5 * wing_span,\n",
    "                            z=0.5 * wing_span * tan(wing_dihedral))\n",
    "\n",
    "root_section = avl.Section(leading_edge_point=wing_root_le_pnt,\n",
    "                           chord=wing_root_chord,\n",
    "                           airfoil=avl.NacaAirfoil('2414'))\n",
    "tip_section = avl.Section(leading_edge_point=wing_tip_le_pnt,\n",
    "                          chord=wing_tip_chord,\n",
    "                          airfoil=avl.NacaAirfoil('2410'))\n",
    "\n",
    "# y_duplicate=0.0 duplicates the wing over a XZ-plane at Y=0.0\n",
    "wing = avl.Surface(name='wing',\n",
    "                   n_chordwise=12,\n",
    "                   chord_spacing=avl.Spacing.cosine,\n",
    "                   n_spanwise=20,\n",
    "                   span_spacing=avl.Spacing.cosine,\n",
    "                   y_duplicate=0.0,\n",
    "                   sections=[root_section, tip_section])"
   ]
  },
  {
   "cell_type": "markdown",
   "metadata": {
    "pycharm": {
     "name": "#%% md\n"
    }
   },
   "source": [
    "## The tail surfaces\n",
    "The tail surfaces will have an elevator and rudder.\n",
    "These will be created as `Control` objects which will be given to the sections."
   ]
  },
  {
   "cell_type": "code",
   "execution_count": 3,
   "metadata": {
    "collapsed": false,
    "jupyter": {
     "outputs_hidden": false
    },
    "pycharm": {
     "is_executing": false,
     "name": "#%%\n"
    }
   },
   "outputs": [],
   "source": [
    "ht_span = 5\n",
    "ht_area = 6\n",
    "ht_taper = 0.4\n",
    "ht_sweep = radians(24)\n",
    "ht_dihedral = radians(6)\n",
    "\n",
    "ht_root_chord = 2 * ht_area / (ht_span * (1+ht_taper))\n",
    "ht_tip_chord = ht_root_chord * ht_taper\n",
    "\n",
    "elevator = avl.Control(name='elevator',\n",
    "                       gain=1.0,\n",
    "                       x_hinge=0.6,\n",
    "                       duplicate_sign=1)\n",
    "\n",
    "ht_root_le_pnt = avl.Point(8, 0, 0.5)\n",
    "ht_tip_le_pnt = avl.Point(x=ht_root_le_pnt.x + 0.5*ht_span*tan(ht_sweep),\n",
    "                          y=0.5*ht_span,\n",
    "                          z=ht_root_le_pnt.z + 0.5*ht_span*tan(ht_dihedral))\n",
    "\n",
    "root_section = avl.Section(leading_edge_point=ht_root_le_pnt,\n",
    "                           chord=ht_root_chord,\n",
    "                           airfoil=avl.NacaAirfoil('0012'),\n",
    "                           controls=[elevator])\n",
    "tip_section = avl.Section(leading_edge_point=ht_tip_le_pnt,\n",
    "                          chord=ht_tip_chord,\n",
    "                          airfoil=avl.NacaAirfoil('0012'),\n",
    "                          controls=[elevator])\n",
    "horizontal_tail = avl.Surface(name='horizontal_tail',\n",
    "                              n_chordwise=12,\n",
    "                              chord_spacing=avl.Spacing.cosine,\n",
    "                              n_spanwise=20,\n",
    "                              span_spacing=avl.Spacing.cosine,\n",
    "                              y_duplicate=0.0,\n",
    "                              sections=[root_section, tip_section])"
   ]
  },
  {
   "cell_type": "code",
   "execution_count": 4,
   "metadata": {
    "collapsed": false,
    "jupyter": {
     "outputs_hidden": false
    },
    "pycharm": {
     "is_executing": false,
     "name": "#%%\n"
    }
   },
   "outputs": [],
   "source": [
    "vt_area = 4\n",
    "vt_aspect_ratio = 2\n",
    "vt_taper = 0.3\n",
    "vt_sweep = radians(30)\n",
    "\n",
    "vt_span = sqrt(vt_area * vt_aspect_ratio)\n",
    "vt_root_chord = 2 * vt_area / (vt_span * (1+vt_taper))\n",
    "vt_tip_chord = vt_root_chord * vt_taper\n",
    "\n",
    "rudder = avl.Control(name='rudder',\n",
    "                     gain=1.0,\n",
    "                     x_hinge=0.7,\n",
    "                     duplicate_sign=-1)\n",
    "\n",
    "vt_root_le_pnt = avl.Point(8, 0, 0.5)\n",
    "vt_tip_le_pnt = avl.Point(x=vt_root_le_pnt.x + vt_span*tan(vt_sweep),\n",
    "                          y=0,\n",
    "                          z=vt_root_le_pnt.z + vt_span)\n",
    "\n",
    "root_section = avl.Section(leading_edge_point=vt_root_le_pnt,\n",
    "                           chord=vt_root_chord,\n",
    "                           airfoil=avl.NacaAirfoil('0012'),\n",
    "                           controls=[rudder])\n",
    "tip_section = avl.Section(leading_edge_point=vt_tip_le_pnt,\n",
    "                          chord=vt_tip_chord,\n",
    "                          airfoil=avl.NacaAirfoil('0012'),\n",
    "                          controls=[rudder])\n",
    "vertical_tail = avl.Surface(name='vertical_tail',\n",
    "                            n_chordwise=12,\n",
    "                            chord_spacing=avl.Spacing.cosine,\n",
    "                            n_spanwise=20,\n",
    "                            span_spacing=avl.Spacing.cosine,\n",
    "                            y_duplicate=0.0,\n",
    "                            sections=[root_section, tip_section])"
   ]
  },
  {
   "cell_type": "markdown",
   "metadata": {
    "pycharm": {
     "name": "#%% md\n"
    }
   },
   "source": [
    "## Creating the geometry object\n",
    "We're going to use the wing area, M.A.C and span as the references which AVL will use the normalise the results.\n",
    "\n",
    "Let's run all analyses at a Mach number of 0.4."
   ]
  },
  {
   "cell_type": "code",
   "execution_count": 5,
   "metadata": {
    "collapsed": false,
    "jupyter": {
     "outputs_hidden": false
    },
    "pycharm": {
     "is_executing": false,
     "name": "#%%\n"
    }
   },
   "outputs": [],
   "source": [
    "mach = 0.4\n",
    "\n",
    "wing_mac = ((2 * wing_root_chord/3) * \n",
    "            (1 + wing_taper+wing_taper**2) / \n",
    "            (1+wing_taper))\n",
    "\n",
    "wing_area = wing_span**2 / wing_aspect_ratio\n",
    "\n",
    "def mac_le_pnt(root_chord, tip_chord, root_pnt, tip_pnt):\n",
    "    pnt = ((2*root_chord*root_pnt[dim] +\n",
    "            root_chord*tip_pnt[dim] + \n",
    "            tip_chord*root_pnt[dim] +\n",
    "            2*tip_chord*tip_pnt[dim]) / \n",
    "           (3*(root_chord+tip_chord))\n",
    "           for dim in range(3))\n",
    "    return avl.Point(*pnt)\n",
    "\n",
    "le_pnt = mac_le_pnt(wing_root_chord, wing_tip_chord,\n",
    "                    wing_root_le_pnt, wing_tip_le_pnt)\n",
    "\n",
    "ref_pnt = avl.Point(x=le_pnt.x + 0.25*wing_mac,\n",
    "                    y=le_pnt.y, z=le_pnt.z)\n",
    "\n",
    "aircraft = avl.Geometry(name='aircraft',\n",
    "                        reference_area=wing_area,\n",
    "                        reference_chord=wing_mac,\n",
    "                        reference_span=wing_span,\n",
    "                        reference_point=ref_pnt,\n",
    "                        mach=mach,\n",
    "                        surfaces=[wing, horizontal_tail, vertical_tail])"
   ]
  },
  {
   "cell_type": "markdown",
   "metadata": {
    "pycharm": {
     "is_executing": false,
     "name": "#%% md\n"
    }
   },
   "source": [
    "## Plotting the geometry\n",
    "If Ghostscript is installed and the Python packages numpy and matplotlib are available, we can plot the geometry\n",
    "in this notebook. Otherwise, we'll have to view it inside AVL."
   ]
  },
  {
   "cell_type": "code",
   "execution_count": 6,
   "metadata": {
    "collapsed": false,
    "jupyter": {
     "outputs_hidden": false
    },
    "pycharm": {
     "is_executing": false,
     "name": "#%%\n"
    }
   },
   "outputs": [
    {
     "data": {
      "text/plain": "<Figure size 432x288 with 1 Axes>",
      "image/png": "[encoded data removed]"
     },
     "metadata": {
      "needs_background": "light"
     },
     "output_type": "display_data"
    }
   ],
   "source": [
    "# create a session with only the geometry\n",
    "session = avl.Session(geometry=aircraft)\n",
    "\n",
    "# check if we have ghostscript\n",
    "if 'gs_bin' in session.config.settings:\n",
    "    img = session.save_geometry_plot()[0]\n",
    "    avl.show_image(img)\n",
    "else:\n",
    "    session.show_geometry()"
   ]
  },
  {
   "cell_type": "markdown",
   "source": [
    "# Running Analyses\n",
    "\n",
    "## Simple analysis\n",
    "First, let's run the aircraft at an angle-of-attack of $\\alpha=0^{\\circ}$"
   ],
   "metadata": {
    "collapsed": false,
    "pycharm": {
     "name": "#%% md\n"
    }
   }
  },
  {
   "cell_type": "code",
   "execution_count": 7,
   "outputs": [],
   "source": [
    "# create a function for showing the Trefftz plot, since we'll be using it more often\n",
    "def show_treffz(session):\n",
    "    if 'gs_bin' in session.config.settings:\n",
    "        images = session.save_trefftz_plots()\n",
    "        for img in images:\n",
    "            avl.show_image(img)\n",
    "    else:\n",
    "        for idx, _ in enumerate(session.cases):\n",
    "            session.show_trefftz_plot(idx+1) # cases start from 1"
   ],
   "metadata": {
    "collapsed": false,
    "pycharm": {
     "name": "#%%\n",
     "is_executing": false
    }
   }
  },
  {
   "cell_type": "code",
   "execution_count": 8,
   "outputs": [
    {
     "data": {
      "text/plain": "<Figure size 432x288 with 1 Axes>",
      "image/png": "[encoded data removed]"
     },
     "metadata": {
      "needs_background": "light"
     },
     "output_type": "display_data"
    },
    {
     "name": "stdout",
     "text": [
      "CL = 0.16923\n"
     ],
     "output_type": "stream"
    }
   ],
   "source": [
    "simple_case = avl.Case(name='zero_aoa',\n",
    "                       alpha=0)\n",
    "session = avl.Session(geometry=aircraft, cases=[simple_case])\n",
    "\n",
    "show_treffz(session)\n",
    "\n",
    "# results are in a dictionary\n",
    "result = session.run_all_cases()\n",
    "print(\"CL = {}\".format(result['zero_aoa']['Totals']['CLtot']))"
   ],
   "metadata": {
    "collapsed": false,
    "pycharm": {
     "name": "#%%\n",
     "is_executing": false
    }
   }
  },
  {
   "cell_type": "markdown",
   "source": [
    "## Trimming at a prescribed lift-coefficient\n",
    "This example shows how to set dependent variables and using controls.\n",
    "\n",
    "Since $C_L$ is a function of $\\alpha$ we need to tell AVL to change $\\alpha$\n",
    "to achieve a certain $C_L$. In addition, we're telling AVL to change the `elevator`\n",
    "control to achieve zero pitching moment ($C_m$)."
   ],
   "metadata": {
    "collapsed": false,
    "pycharm": {
     "name": "#%% md\n"
    }
   }
  },
  {
   "cell_type": "code",
   "execution_count": 9,
   "outputs": [
    {
     "data": {
      "text/plain": "<Figure size 432x288 with 1 Axes>",
      "image/png": "[encoded data removed]"
     },
     "metadata": {
      "needs_background": "light"
     },
     "output_type": "display_data"
    }
   ],
   "source": [
    "# set CL to 0.4\n",
    "cl_param = avl.Parameter(name='alpha', setting='CL', value=0.4)\n",
    "\n",
    "# trim with elevator\n",
    "trim_param = avl.Parameter(name='elevator', setting='Cm', value=0.0)\n",
    "\n",
    "trim_case = avl.Case(name='trimmed',\n",
    "                     alpha=cl_param,\n",
    "                     elevator=trim_param)\n",
    "\n",
    "session = avl.Session(geometry=aircraft, cases=[trim_case])\n",
    "\n",
    "show_treffz(session)"
   ],
   "metadata": {
    "collapsed": false,
    "pycharm": {
     "name": "#%%\n",
     "is_executing": false
    }
   }
  },
  {
   "cell_type": "markdown",
   "source": [
    "## Case parameters\n",
    "Let's see what parameters we can set and what dependent variables we can use as settings.\n",
    "\n",
    "In addition, the case states are listed. These can also be set (for example Mach number, density, etc.),\n",
    "but note that some states are dependent on an analysis result will be overwritten.\n",
    "Please read the AVL documentation for more info."
   ],
   "metadata": {
    "collapsed": false,
    "pycharm": {
     "name": "#%% md\n"
    }
   }
  },
  {
   "cell_type": "code",
   "execution_count": 10,
   "outputs": [
    {
     "name": "stdout",
     "text": [
      "Parameters:\n",
      "alpha, beta, roll_rate, pitch_rate, yaw_rate\n",
      "\n",
      "Settings:\n",
      "rb/2V, beta, qc/2V, CY, Cl, pb/2V, alpha, CL, Cn, Cm\n",
      "\n",
      "States:\n",
      "alpha, beta, roll_rate, pitch_rate, yaw_rate, CL, cd_p, bank, elevation, heading, mach, velocity, density, gravity, turn_rad, load_fac, X_cg, Y_cg, Z_cg, mass, Ixx, Iyy, Izz, Ixy, Iyz, Izx, visc_CL_a, visc_CL_u, visc_CM_a, visc_CM_u\n"
     ],
     "output_type": "stream"
    }
   ],
   "source": [
    "print(\"Parameters:\")\n",
    "print(\", \".join(avl.Case.CASE_PARAMETERS.keys()))\n",
    "\n",
    "print(\"\\nSettings:\")\n",
    "print(\", \".join(avl.Case.VALID_SETTINGS))\n",
    "\n",
    "print(\"\\nStates:\")\n",
    "print(\", \".join(avl.Case.CASE_STATES.keys()))"
   ],
   "metadata": {
    "collapsed": false,
    "pycharm": {
     "name": "#%%\n",
     "is_executing": false
    }
   }
  },
  {
   "cell_type": "markdown",
   "source": [
    "## Create a lot of cases\n",
    "With `create_sweep_cases` its possible to generate a lot of cases,\n",
    "for example to perform a parameter sweep.\n",
    "\n",
    "In this example we're going to generate cases for varying angle-of-attack and elevator setting.\n",
    "For example, to trim the aircraft in another program.\n",
    "\n",
    "The angle-of-attack will vary from -6 to 6, and the elevator will vary from -15 to 15."
   ],
   "metadata": {
    "collapsed": false,
    "pycharm": {
     "name": "#%% md\n"
    }
   }
  },
  {
   "cell_type": "code",
   "execution_count": 14,
   "outputs": [
    {
     "name": "stdout",
     "text": [
      "OOPS!\n"
     ],
     "output_type": "stream"
    }
   ],
   "source": [
    "base_case = avl.Case(name='sweep')\n",
    "\n",
    "alphas = list(range(-6, 7, 2))\n",
    "elevators = list(range(-15, 16, 3))\n",
    "all_cases = avl.create_sweep_cases(base_case=base_case,\n",
    "                                   parameters=[{'name': 'alpha',\n",
    "                                                'values': alphas},\n",
    "                                               {'name': 'elevator',\n",
    "                                                'values': elevators}])\n",
    "session = avl.Session(geometry=aircraft, cases=all_cases)\n",
    "\n",
    "# THIS WILL FAIL!\n",
    "try:\n",
    "    session.run_all_cases()\n",
    "except avl.session.InputError:\n",
    "    print(\"OOPS!\")"
   ],
   "metadata": {
    "collapsed": false,
    "pycharm": {
     "name": "#%%\n",
     "is_executing": false
    }
   }
  },
  {
   "cell_type": "markdown",
   "source": [
    "AVL can only handle 25 cases at once, so lets create partitions."
   ],
   "metadata": {
    "collapsed": false,
    "pycharm": {
     "name": "#%% md\n"
    }
   }
  },
  {
   "cell_type": "code",
   "execution_count": 12,
   "outputs": [],
   "source": [
    "partitions = avl.partitioned_cases(all_cases)\n",
    "results = {}\n",
    "for partition in partitions:\n",
    "    session = avl.Session(geometry=aircraft, cases=partition)\n",
    "    results.update(session.run_all_cases())\n",
    "    \n",
    "# Write everything to json\n",
    "with open('all_cases.json', 'w') as f:\n",
    "    f.write(json.dumps(results))"
   ],
   "metadata": {
    "collapsed": false,
    "pycharm": {
     "name": "#%%\n",
     "is_executing": false
    }
   }
  }
 ],
 "metadata": {
  "kernelspec": {
   "display_name": "Python 3",
   "language": "python",
   "name": "python3"
  },
  "language_info": {
   "codemirror_mode": {
    "name": "ipython",
    "version": 3
   },
   "file_extension": ".py",
   "mimetype": "text/x-python",
   "name": "python",
   "nbconvert_exporter": "python",
   "pygments_lexer": "ipython3",
   "version": "3.7.6"
  },
  "pycharm": {
   "stem_cell": {
    "cell_type": "raw",
    "source": [],
    "metadata": {
     "collapsed": false
    }
   }
  }
 },
 "nbformat": 4,
 "nbformat_minor": 4
}